{
 "cells": [
  {
   "cell_type": "code",
   "execution_count": null,
   "id": "b5f1756b",
   "metadata": {},
   "outputs": [],
   "source": [
    "import numpy as np\n",
    "import matplotlib.pyplot as plt\n",
    "%matplotlib inline"
   ]
  },
  {
   "cell_type": "markdown",
   "id": "383906df",
   "metadata": {},
   "source": [
    "## Part 5 - Fitting a polynomial to the data"
   ]
  },
  {
   "cell_type": "code",
   "execution_count": null,
   "id": "b40959b5",
   "metadata": {},
   "outputs": [],
   "source": [
    "x = np.array([0., 1., 2., 3.])\n",
    "y = 2.* x + 1\n",
    "\n",
    "output = np.polyfit(x, y, 1)\n",
    "\n",
    "print(repr(output))"
   ]
  },
  {
   "cell_type": "code",
   "execution_count": null,
   "id": "5a188c65",
   "metadata": {},
   "outputs": [],
   "source": [
    "plt.style.use('classic')\n",
    "\n",
    "xdata = np.array([0.1, 0.2, 0.3, 0.4, 0.5, 0.6, 0.7, 0.8, 0.9])\n",
    "ydata = np.array([1.066, 1.502, 1.752, 1.701, 1.892, 2.1, 2.255, 2.741, 2.718])\n",
    "\n",
    "slope, intercept = np.polyfit(xdata, ydata, 1)\n",
    "slope = np.round(slope, 3)\n",
    "intercept = np.round(intercept, 3)\n",
    "\n",
    "print('slope = %s' % slope)\n",
    "print('intercept = %s' % intercept)\n"
   ]
  },
  {
   "cell_type": "code",
   "execution_count": null,
   "id": "01a60e48",
   "metadata": {},
   "outputs": [],
   "source": [
    "plt.style.use('default')\n",
    "\n",
    "xsmooth = np.linspace(0, 1, 1000)\n",
    "yfit = slope*xsmooth + intercept\n",
    "\n",
    "plt.plot(xdata, ydata, 'ko', zorder=10, label='Data')\n",
    "plt.plot(xsmooth, yfit, 'k-', zorder=5, label='Fit ($y= %s x + %s$)' % (slope, intercept))\n",
    "plt.legend(loc=2)\n",
    "\n",
    "plt.title('Fit line demo')\n",
    "plt.xlabel('x')\n",
    "plt.ylabel('y')\n",
    "plt.grid()"
   ]
  },
  {
   "cell_type": "markdown",
   "id": "e5f1dfb0",
   "metadata": {},
   "source": [
    "## Part 6 - Showing error bars"
   ]
  },
  {
   "cell_type": "code",
   "execution_count": null,
   "id": "2ea4a09e",
   "metadata": {},
   "outputs": [],
   "source": [
    "xdata = np.linspace(0.1, .9, 9)\n",
    "ydata = 1. + 5. * xdata**2\n",
    "plt.errorbar(x = xdata, y = ydata, ls='none', marker='x', c='k')\n",
    "plt.xlim(0,1)\n",
    "plt.ylim(0,6)"
   ]
  },
  {
   "cell_type": "code",
   "execution_count": null,
   "id": "a9c1d4ab",
   "metadata": {},
   "outputs": [],
   "source": [
    "yerr = 0.05*ydata\n",
    "\n",
    "plt.errorbar(x = xdata, y = ydata, yerr = yerr, ls='none', marker='.', c='k', lw=1, capsize = 2)\n",
    "plt.xlim(0, 1)\n",
    "plt.ylim(0, 6)"
   ]
  },
  {
   "cell_type": "code",
   "execution_count": null,
   "id": "4b141de7",
   "metadata": {},
   "outputs": [],
   "source": [
    "xerror = 0.03 * np.random.normal(size=(len(xdata)))\n",
    "yerror = 0.5 * np.random.normal(size=(len(ydata)))\n",
    "\n",
    "plt.errorbar(x = xdata, y = ydata, xerr = xerror, yerr = yerror, ls = 'none', marker = '.', c = 'k', capsize = 2)"
   ]
  }
 ],
 "metadata": {
  "kernelspec": {
   "display_name": "Python 3 (ipykernel)",
   "language": "python",
   "name": "python3"
  },
  "language_info": {
   "codemirror_mode": {
    "name": "ipython",
    "version": 3
   },
   "file_extension": ".py",
   "mimetype": "text/x-python",
   "name": "python",
   "nbconvert_exporter": "python",
   "pygments_lexer": "ipython3",
   "version": "3.8.10"
  }
 },
 "nbformat": 4,
 "nbformat_minor": 5
}
