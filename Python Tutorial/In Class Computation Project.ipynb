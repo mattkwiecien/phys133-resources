{
 "cells": [
  {
   "cell_type": "markdown",
   "id": "4c780af3",
   "metadata": {},
   "source": [
    "## Step 1"
   ]
  },
  {
   "cell_type": "markdown",
   "id": "56bdd3ba",
   "metadata": {},
   "source": [
    "\n",
    "We have:\n",
    "\n",
    "$f_{avg} = -\\lambda \\int_0^1 \\log(1-u)du$\n",
    "\n",
    "Substitute $x = 1-u$\n",
    "\n",
    "$ f_{avg} = \\lambda \\int_1^0 \\log(x)dx$\n",
    "\n",
    "This is an improper integral, so we can use IBP to find it's value\n"
   ]
  },
  {
   "cell_type": "markdown",
   "id": "3d8d5daa",
   "metadata": {},
   "source": [
    "$ \\int_a^b f g' = - \\int_a^b g f' + fg |_a^b$"
   ]
  },
  {
   "cell_type": "markdown",
   "id": "08d77d21",
   "metadata": {},
   "source": [
    "$f = \\log(x)$"
   ]
  },
  {
   "cell_type": "markdown",
   "id": "aea9598a",
   "metadata": {},
   "source": [
    "$f' = \\frac{1}{x}$"
   ]
  },
  {
   "cell_type": "markdown",
   "id": "ba03cc41",
   "metadata": {},
   "source": [
    "$g' = 1$"
   ]
  },
  {
   "cell_type": "markdown",
   "id": "f479868c",
   "metadata": {},
   "source": [
    "$g = x$"
   ]
  },
  {
   "cell_type": "markdown",
   "id": "95756a87",
   "metadata": {},
   "source": [
    "$ = -\\int_1^0 x \\frac{1}{x} + x\\log(x)|_1^0$"
   ]
  },
  {
   "cell_type": "markdown",
   "id": "eeb42b0e",
   "metadata": {},
   "source": [
    "= 1"
   ]
  },
  {
   "cell_type": "markdown",
   "id": "41855dcc",
   "metadata": {},
   "source": [
    "Therefore\n",
    "$f_{avg} = \\lambda$"
   ]
  },
  {
   "cell_type": "code",
   "execution_count": 3,
   "id": "e204e43e",
   "metadata": {},
   "outputs": [],
   "source": [
    "import numpy as np\n",
    "import matplotlib.pyplot as plt\n",
    "%matplotlib inline"
   ]
  },
  {
   "cell_type": "code",
   "execution_count": 42,
   "id": "f98ae5b2",
   "metadata": {},
   "outputs": [],
   "source": [
    "N = 100\n",
    "lam = 10\n",
    "\n",
    "x = np.random.rand(N)"
   ]
  },
  {
   "cell_type": "code",
   "execution_count": 43,
   "id": "287593e5",
   "metadata": {},
   "outputs": [],
   "source": [
    "def expDist(x, lam):\n",
    "    return -lam * np.log(1 - x)"
   ]
  },
  {
   "cell_type": "code",
   "execution_count": 44,
   "id": "a425b1ee",
   "metadata": {},
   "outputs": [],
   "source": [
    "sample = expDist(x, 10)"
   ]
  },
  {
   "cell_type": "code",
   "execution_count": 45,
   "id": "e2017fcd",
   "metadata": {},
   "outputs": [
    {
     "name": "stdout",
     "output_type": "stream",
     "text": [
      "9.679970621684067\n"
     ]
    }
   ],
   "source": [
    "mean = sum(sample)/N\n",
    "print(mean)"
   ]
  },
  {
   "cell_type": "markdown",
   "id": "a21d5169",
   "metadata": {},
   "source": [
    "$d_i = x_i - x_{avg}$\n",
    "\n",
    "$\\sigma_{x} = \\sqrt{\\frac{1}{N} \\sum_i d_i^2}$"
   ]
  },
  {
   "cell_type": "code",
   "execution_count": 46,
   "id": "5c8ffb26",
   "metadata": {},
   "outputs": [],
   "source": [
    "d_i = (sample - mean)**2\n",
    "sx = np.sqrt(sum(d_i)/(N-1))\n",
    "sem = sx / np.sqrt(N)"
   ]
  },
  {
   "cell_type": "code",
   "execution_count": 47,
   "id": "64d0e37a",
   "metadata": {},
   "outputs": [
    {
     "name": "stdout",
     "output_type": "stream",
     "text": [
      "Average =  9.679970621684067\n",
      "Standard Deviation =  9.494295933580442\n",
      "Error of mean =  0.9494295933580442\n",
      "Analytic average =  10\n"
     ]
    }
   ],
   "source": [
    "print('Average = ', mean)\n",
    "print('Standard Deviation = ', sx)\n",
    "print('Error of mean = ', sem)\n",
    "print('Analytic average = ', lam)"
   ]
  },
  {
   "cell_type": "code",
   "execution_count": 49,
   "id": "4f50dcac",
   "metadata": {},
   "outputs": [
    {
     "data": {
      "text/plain": [
       "(array([36., 27., 14., 10.,  6.,  3.,  1.,  1.,  0.,  2.]),\n",
       " array([ 0.16842791,  5.01288844,  9.85734896, 14.70180949, 19.54627002,\n",
       "        24.39073055, 29.23519108, 34.0796516 , 38.92411213, 43.76857266,\n",
       "        48.61303319]),\n",
       " <BarContainer object of 10 artists>)"
      ]
     },
     "execution_count": 49,
     "metadata": {},
     "output_type": "execute_result"
    },
    {
     "data": {
      "image/png": "[encoded data removed]",
      "text/plain": [
       "<Figure size 288x288 with 1 Axes>"
      ]
     },
     "metadata": {
      "needs_background": "light"
     },
     "output_type": "display_data"
    }
   ],
   "source": [
    "plt.figure(1, figsize=(4,4))\n",
    "plt.hist(sample, bins=10)"
   ]
  },
  {
   "cell_type": "code",
   "execution_count": null,
   "id": "201762fb",
   "metadata": {},
   "outputs": [],
   "source": []
  }
 ],
 "metadata": {
  "kernelspec": {
   "display_name": "Python 3 (ipykernel)",
   "language": "python",
   "name": "python3"
  },
  "language_info": {
   "codemirror_mode": {
    "name": "ipython",
    "version": 3
   },
   "file_extension": ".py",
   "mimetype": "text/x-python",
   "name": "python",
   "nbconvert_exporter": "python",
   "pygments_lexer": "ipython3",
   "version": "3.8.10"
  }
 },
 "nbformat": 4,
 "nbformat_minor": 5
}
