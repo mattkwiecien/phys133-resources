{
 "cells": [
  {
   "cell_type": "code",
   "execution_count": null,
   "id": "54a82f40",
   "metadata": {},
   "outputs": [],
   "source": [
    "import numpy as np\n",
    "import matplotlib.pyplot as plt\n",
    "%matplotlib inline"
   ]
  },
  {
   "cell_type": "markdown",
   "id": "fdaaef23",
   "metadata": {},
   "source": [
    "## Part 7 - Reading and Writing Data"
   ]
  },
  {
   "cell_type": "code",
   "execution_count": null,
   "id": "54e30bac",
   "metadata": {},
   "outputs": [],
   "source": [
    "i, x, y1, y2 = np.genfromtxt('data.txt', delimiter = ', ', skip_header = 1, unpack = True)\n",
    "print(repr(i))\n",
    "print(repr(x))\n",
    "print(repr(y1))\n",
    "print(repr(y2))\n",
    "\n",
    "plt.plot(x, y1, 'r-')\n",
    "plt.plot(x, y2, 'b-')\n",
    "plt.xlim(0, 3)\n",
    "plt.ylim(0, 10)"
   ]
  },
  {
   "cell_type": "code",
   "execution_count": null,
   "id": "3d9303ae",
   "metadata": {},
   "outputs": [],
   "source": [
    "a = np.array([0, 1, 2, 3])\n",
    "b = np.array([10, 11, 12, 13])\n",
    "c = np.array([100, 101, 102, 103])\n",
    "\n",
    "d = np.dstack([a, b, c])\n",
    "\n",
    "print(d)"
   ]
  },
  {
   "cell_type": "code",
   "execution_count": null,
   "id": "3760d200",
   "metadata": {},
   "outputs": [],
   "source": [
    "print(d[0])\n",
    "d = d[0]\n",
    "np.savetxt('data2.txt', d)"
   ]
  },
  {
   "cell_type": "code",
   "execution_count": null,
   "id": "041c3728",
   "metadata": {},
   "outputs": [],
   "source": [
    "np.savetxt('data2.txt', d, fmt='% 3d', delimiter = ',')"
   ]
  },
  {
   "cell_type": "code",
   "execution_count": null,
   "id": "b98a6b76",
   "metadata": {},
   "outputs": [],
   "source": [
    "i = np.arange(0, 51)\n",
    "x = np.linspace(0, 10, 51)\n",
    "y1 = x**2\n",
    "y2 = np.exp(x)\n",
    "\n",
    "z = np.dstack([i, x, y1, y2])\n",
    "z = z[0]\n",
    "form = ('%02d', '%12.2f', '%12.3f', '%12.3e')\n",
    "delim = ', '\n",
    "head = delim.join(['i', 'x'.rjust(12), 'x**2'.rjust(12), 'exp(x)'.rjust(12)])\n",
    "np.savetxt('data.txt', z, delimiter=delim, fmt=form, header=head, comments = '')"
   ]
  },
  {
   "cell_type": "code",
   "execution_count": null,
   "id": "bdd53591",
   "metadata": {},
   "outputs": [],
   "source": []
  }
 ],
 "metadata": {
  "kernelspec": {
   "display_name": "Python 3 (ipykernel)",
   "language": "python",
   "name": "python3"
  },
  "language_info": {
   "codemirror_mode": {
    "name": "ipython",
    "version": 3
   },
   "file_extension": ".py",
   "mimetype": "text/x-python",
   "name": "python",
   "nbconvert_exporter": "python",
   "pygments_lexer": "ipython3",
   "version": "3.8.10"
  }
 },
 "nbformat": 4,
 "nbformat_minor": 5
}
