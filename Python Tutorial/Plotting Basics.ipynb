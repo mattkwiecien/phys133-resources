{
 "cells": [
  {
   "cell_type": "markdown",
   "id": "2ca4bff7",
   "metadata": {},
   "source": [
    "## UCSC Jupyter Hub\n",
    "Navigate to http://phys133.ucsc.edu , and login with:\n",
    "* username@ucsc.edu\n",
    "* ucsc blue password\n",
    "\n",
    "Now create your script:\n",
    "1. Create a new folder *New > Folder*\n",
    "2. Create a python script *New > (Notebook) Python 3*\n",
    "3. Run your script with *Ctrl + Enter*\n",
    "4. Shutdown all of your running processes before logging off or closing the window."
   ]
  },
  {
   "cell_type": "markdown",
   "id": "7d06bc93",
   "metadata": {},
   "source": [
    "## Part 1 - Plotting points"
   ]
  },
  {
   "cell_type": "code",
   "execution_count": null,
   "id": "5c532f37",
   "metadata": {},
   "outputs": [],
   "source": [
    "import numpy as np\n",
    "import matplotlib.pyplot as plt\n",
    "%matplotlib inline"
   ]
  },
  {
   "cell_type": "code",
   "execution_count": null,
   "id": "0c9065d7",
   "metadata": {},
   "outputs": [],
   "source": [
    "x = np.array([0., 1., 2., 3., 4., 5.])\n",
    "y = x**2\n",
    "print(\"x = \", x)\n",
    "print(\"y = \", y)\n",
    "\n",
    "plt.plot(x, y, marker='o', linestyle='none', color='black')\n",
    "plt.savefig('part1.png')"
   ]
  },
  {
   "cell_type": "markdown",
   "id": "34ea2b65",
   "metadata": {},
   "source": [
    "## Part 2 - Plotting data"
   ]
  },
  {
   "cell_type": "code",
   "execution_count": null,
   "id": "5c3d068c",
   "metadata": {},
   "outputs": [],
   "source": [
    "# This is a line comment.  The next line is just code\n",
    "print(\"I am code.\")\n",
    "# The next line has both code and a comment after it.\n",
    "print(\"Print me!\") # I am a comment print(\"Ignore me.\")"
   ]
  },
  {
   "cell_type": "code",
   "execution_count": null,
   "id": "181726bb",
   "metadata": {},
   "outputs": [],
   "source": [
    "a = [1, 2, 3]\n",
    "b = np.array([1, 2, 3])\n",
    "print(2*a)\n",
    "print(2*b)"
   ]
  },
  {
   "cell_type": "code",
   "execution_count": null,
   "id": "d62dbc1e",
   "metadata": {},
   "outputs": [],
   "source": [
    "print(np.linspace(0, 1, 3))"
   ]
  },
  {
   "cell_type": "code",
   "execution_count": null,
   "id": "a1cf9dcd",
   "metadata": {},
   "outputs": [],
   "source": [
    "x = np.linspace(0, 5, 50)\n",
    "y = x**2\n",
    "\n",
    "plt.plot(x, y, marker='o', ls='none', c='k')"
   ]
  },
  {
   "cell_type": "code",
   "execution_count": null,
   "id": "4d12b439",
   "metadata": {},
   "outputs": [],
   "source": [
    "x = np.linspace(0, 1, 1000)\n",
    "y = x**2\n",
    "z = np.sin(x)\n",
    "plt.plot(x, y, lw=5, color='b', zorder=1)\n",
    "plt.plot(x, z, lw=5, color='r', zorder=2)"
   ]
  },
  {
   "cell_type": "code",
   "execution_count": null,
   "id": "82d8ab22",
   "metadata": {},
   "outputs": [],
   "source": [
    "plt.figure(1, figsize=(8,8))\n",
    "plt.plot(x, y, lw=5, c='b', zorder=1)\n",
    "plt.figure(2, figsize=(8,8))\n",
    "plt.plot(x, z, lw=5, c='r', zorder=2)"
   ]
  },
  {
   "cell_type": "markdown",
   "id": "fdf64cd2",
   "metadata": {},
   "source": [
    "## Part 3 - Functions and complex numbers"
   ]
  },
  {
   "cell_type": "code",
   "execution_count": null,
   "id": "779883a6",
   "metadata": {},
   "outputs": [],
   "source": [
    "def f(x,y):\n",
    "    return x**2 + y**2\n",
    "z = f(1,2)\n",
    "print(z)"
   ]
  },
  {
   "cell_type": "code",
   "execution_count": null,
   "id": "2530374d",
   "metadata": {},
   "outputs": [],
   "source": [
    "a = np.array([1,1,1])\n",
    "b = np.array([0,1,2])\n",
    "def g(x,y):\n",
    "    return x**2 + y**2\n",
    "z = g(a,b)\n",
    "print(z)"
   ]
  },
  {
   "cell_type": "code",
   "execution_count": null,
   "id": "3c46fa5c",
   "metadata": {},
   "outputs": [],
   "source": [
    "z = 3. + 4j\n",
    "print('z = ', z)\n",
    "print('Real Part = ', z.real)\n",
    "print('Imaginary Part = ', z.imag)\n",
    "print('Magnitude = ', np.abs(z))\n",
    "print('Phase (radians) = ', np.angle(z))"
   ]
  },
  {
   "cell_type": "code",
   "execution_count": null,
   "id": "5c7db306",
   "metadata": {},
   "outputs": [],
   "source": [
    "def complexFunc(s):\n",
    "    return 2.+ np.exp(1j*s)\n",
    "\n",
    "x = np.linspace(0, 20, 1000)\n",
    "complexZ = complexFunc(x)\n",
    "magZ = np.abs(complexZ)\n",
    "argZ = np.angle(complexZ)\n",
    "\n",
    "plt.figure(1)\n",
    "plt.plot(x, magZ, 'b')\n",
    "plt.title('Magnitude')\n",
    "plt.ylim(0, 3.1)\n",
    "\n",
    "plt.figure(2)\n",
    "plt.plot(x, 180.*argZ/np.pi, 'r')\n",
    "plt.title('Phase (degrees)')\n",
    "plt.ylim(-95,95)\n",
    "plt.yticks([-90, -45, 0, 45, 90])"
   ]
  },
  {
   "cell_type": "markdown",
   "id": "ffa3db33",
   "metadata": {},
   "source": [
    "## Part 4 - Cosmetics"
   ]
  },
  {
   "cell_type": "code",
   "execution_count": null,
   "id": "9ab8ac88",
   "metadata": {},
   "outputs": [],
   "source": [
    "x = np.linspace(0, 4, 1000)\n",
    "y = np.exp(x)\n",
    "\n",
    "plt.figure(1)\n",
    "plt.plot(x, y, 'k-')\n",
    "plt.title('Coolness of Anteaters')\n",
    "plt.xlabel('Time watching planet earth (microseconds)')\n",
    "plt.ylabel('Perceived coolness (mMJS)')\n",
    "\n",
    "plt.xlim(0, 3.0)\n",
    "plt.ylim(0, 22)\n",
    "\n",
    "plt.xticks(np.arange(0, 3.1, .5))\n",
    "plt.yticks([0, 5, 10, 15, 20])\n",
    "\n",
    "plt.grid()"
   ]
  },
  {
   "cell_type": "code",
   "execution_count": null,
   "id": "6a7950c7",
   "metadata": {},
   "outputs": [],
   "source": []
  }
 ],
 "metadata": {
  "kernelspec": {
   "display_name": "Python 3 (ipykernel)",
   "language": "python",
   "name": "python3"
  },
  "language_info": {
   "codemirror_mode": {
    "name": "ipython",
    "version": 3
   },
   "file_extension": ".py",
   "mimetype": "text/x-python",
   "name": "python",
   "nbconvert_exporter": "python",
   "pygments_lexer": "ipython3",
   "version": "3.8.10"
  }
 },
 "nbformat": 4,
 "nbformat_minor": 5
}
